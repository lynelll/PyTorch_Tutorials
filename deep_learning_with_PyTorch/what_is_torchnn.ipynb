{
 "cells": [
  {
   "cell_type": "markdown",
   "id": "321cb94c",
   "metadata": {},
   "source": [
    "### What is `TORCH.NN`?\n",
    "- PyTorch는 neural network를 생성하고 학습시키는 것을 도와주기 위해서 `torch.nn`, `torch.optim`, `dataset`, `DataLoader`와 같은 잘 디자인된 모듈과 클래스를 제공\n",
    "- "
   ]
  }
 ],
 "metadata": {
  "language_info": {
   "name": "python"
  }
 },
 "nbformat": 4,
 "nbformat_minor": 5
}
