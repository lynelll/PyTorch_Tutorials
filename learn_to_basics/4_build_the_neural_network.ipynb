{
 "cells": [
  {
   "cell_type": "markdown",
   "id": "b82fe0be",
   "metadata": {},
   "source": [
    "### Build the Neural Network\n",
    "- 신경망은 데이터에 대한 연산을 수행하는 `계층(layer)` / `모듈(module)`로 구성\n",
    "- `torch.nn`: 신경망을 구성하는데 필요한 모든 구성 요소를 제공\n",
    "- PyTorch의 모든 모듈은 `nn.Module`의 하위 클래스(subclass)\n",
    "- 신경망은 다른 모듈(계층, layer)로 구성된 모듈"
   ]
  },
  {
   "cell_type": "markdown",
   "id": "16a4e96d",
   "metadata": {},
   "source": [
    "FashionMNIST dataset의 이미지를 분류하는 신경망"
   ]
  },
  {
   "cell_type": "code",
   "execution_count": 1,
   "id": "51b7f8f3",
   "metadata": {},
   "outputs": [],
   "source": [
    "import os\n",
    "import torch\n",
    "from torch import nn\n",
    "from torch.utils.data import DataLoader\n",
    "from torchvision import datasets, transforms"
   ]
  },
  {
   "cell_type": "code",
   "execution_count": 2,
   "id": "96a65d80",
   "metadata": {},
   "outputs": [
    {
     "name": "stdout",
     "output_type": "stream",
     "text": [
      "Using cuda device\n"
     ]
    }
   ],
   "source": [
    "device = (\n",
    "    \"cuda\" if torch.cuda.is_available() else \"cpu\"\n",
    ")\n",
    "print(f\"Using {device} device\")"
   ]
  },
  {
   "cell_type": "markdown",
   "id": "4ea9ecc8",
   "metadata": {},
   "source": [
    "#### 클래스 정의하기\n",
    "- 신경망 모델을 `nn.Module`의 하위클래스로 정의하고, `__init__`에서 신경망 계층들을 초기화\n",
    "- `nn.Module`을 상속받은 모든 클래스는 `forward` 메소드에 입력 데이터에 대한 연산을 구현"
   ]
  },
  {
   "cell_type": "code",
   "execution_count": 3,
   "id": "25d70a0f",
   "metadata": {},
   "outputs": [],
   "source": [
    "class NeuralNetwork(nn.Module):\n",
    "    def __init__(self):\n",
    "        super().__init__()\n",
    "        \"\"\"\n",
    "        nn.module.__init__()도 동작 가능\n",
    "        -> 부모 클래스의 초기화 함수를 직접 호출하기 때문에, 부모 클래스가 바뀌면 코드가 망가짐\n",
    "        \"\"\"\n",
    "        self.flatten = nn.Flatten()     # 28x28 이미지를 1차원 벡터 (784,)로 flatten\n",
    "        self.linear_relu_stack = nn.Sequential(\n",
    "            nn.Linear(28*28, 512),\n",
    "            nn.ReLU(),\n",
    "            nn.Linear(512, 512),\n",
    "            nn.ReLU(),\n",
    "            nn.Linear(512, 10),\n",
    "        )\n",
    "    def forward(self, x):\n",
    "        x = self.flatten(x)\n",
    "        logits = self.linear_relu_stack(x)\n",
    "        return logits"
   ]
  },
  {
   "cell_type": "markdown",
   "id": "4f3b6b02",
   "metadata": {},
   "source": [
    "`NeuralNetwork`의 인스턴스(instance)를 생성하고 이를 `device`로 이동한 뒤, 구조(structure)를 출력"
   ]
  },
  {
   "cell_type": "code",
   "execution_count": 4,
   "id": "a3ef2928",
   "metadata": {},
   "outputs": [
    {
     "name": "stdout",
     "output_type": "stream",
     "text": [
      "NeuralNetwork(\n",
      "  (flatten): Flatten(start_dim=1, end_dim=-1)\n",
      "  (linear_relu_stack): Sequential(\n",
      "    (0): Linear(in_features=784, out_features=512, bias=True)\n",
      "    (1): ReLU()\n",
      "    (2): Linear(in_features=512, out_features=512, bias=True)\n",
      "    (3): ReLU()\n",
      "    (4): Linear(in_features=512, out_features=10, bias=True)\n",
      "  )\n",
      ")\n"
     ]
    }
   ],
   "source": [
    "model = NeuralNetwork().to(device)\n",
    "print(model)"
   ]
  },
  {
   "cell_type": "code",
   "execution_count": 5,
   "id": "a656c90a",
   "metadata": {},
   "outputs": [
    {
     "name": "stdout",
     "output_type": "stream",
     "text": [
      "Predicted class: tensor([9], device='cuda:0')\n"
     ]
    }
   ],
   "source": [
    "X = torch.rand(1, 28, 28, device=device)        # 가짜 이미지\n",
    "logits = model(X)\n",
    "pred_probab = nn.Softmax(dim=1)(logits)\n",
    "y_pred = pred_probab.argmax(1)\n",
    "print(f\"Predicted class: {y_pred}\")"
   ]
  },
  {
   "cell_type": "markdown",
   "id": "e0e2f655",
   "metadata": {},
   "source": [
    "#### 모델 계층 (Layer)"
   ]
  },
  {
   "cell_type": "code",
   "execution_count": 6,
   "id": "d2f5904e",
   "metadata": {},
   "outputs": [
    {
     "name": "stdout",
     "output_type": "stream",
     "text": [
      "torch.Size([3, 28, 28])\n"
     ]
    }
   ],
   "source": [
    "# 28x28 크기의 이미지 3개로 구성된 미니배치를 가져와, 신경망을 통과할 때 어떤 일이 발생하는지 확인\n",
    "input_image = torch.rand(3, 28, 28)\n",
    "print(input_image.size())"
   ]
  },
  {
   "cell_type": "code",
   "execution_count": 7,
   "id": "d3f5b321",
   "metadata": {},
   "outputs": [
    {
     "name": "stdout",
     "output_type": "stream",
     "text": [
      "torch.Size([3, 784])\n"
     ]
    }
   ],
   "source": [
    "flatten = nn.Flatten()\n",
    "flat_image = flatten(input_image)\n",
    "print(flat_image.size())"
   ]
  },
  {
   "cell_type": "code",
   "execution_count": 8,
   "id": "79bd33a6",
   "metadata": {},
   "outputs": [
    {
     "name": "stdout",
     "output_type": "stream",
     "text": [
      "torch.Size([3, 20])\n"
     ]
    }
   ],
   "source": [
    "layer1 = nn.Linear(in_features = 28*28, out_features = 20)\n",
    "hidden1 = layer1(flat_image)\n",
    "print(hidden1.size())"
   ]
  },
  {
   "cell_type": "code",
   "execution_count": 9,
   "id": "e5a1bf6a",
   "metadata": {},
   "outputs": [
    {
     "name": "stdout",
     "output_type": "stream",
     "text": [
      "Before ReLU: tensor([[ 2.4109e-01, -1.6218e-01, -7.2167e-02,  8.3553e-02,  3.4714e-01,\n",
      "         -2.5297e-01, -3.5880e-02, -8.4441e-03, -6.2864e-01, -1.3338e-01,\n",
      "         -3.8685e-01,  1.8297e-02, -4.5151e-01, -7.5894e-02, -3.3265e-01,\n",
      "          1.9389e-01,  6.9175e-03, -4.3012e-01, -1.4229e-01,  1.0442e-01],\n",
      "        [ 1.3508e-04,  3.6364e-01, -1.3377e-01,  3.3162e-01,  2.7077e-01,\n",
      "          1.4249e-01,  2.1699e-01, -3.1769e-01, -5.4999e-01, -2.2228e-01,\n",
      "         -3.9262e-01, -1.9205e-01,  1.2123e-01, -4.5552e-01, -2.0670e-01,\n",
      "          8.3712e-03, -3.7793e-01, -1.3921e-01, -2.3048e-01,  1.9537e-01],\n",
      "        [ 1.8829e-01, -6.6159e-02, -2.7765e-01,  5.0809e-02, -1.4006e-01,\n",
      "         -9.5918e-02,  3.7231e-02,  3.1169e-01, -5.1646e-01, -2.7615e-01,\n",
      "         -4.3791e-01, -5.2397e-01, -7.2049e-03, -4.4123e-01, -8.2962e-02,\n",
      "          3.0614e-01, -3.1465e-01, -1.1763e-01, -2.3581e-01,  5.6692e-02]],\n",
      "       grad_fn=<AddmmBackward0>)\n",
      "\n",
      "\n",
      "After ReLU: tensor([[2.4109e-01, 0.0000e+00, 0.0000e+00, 8.3553e-02, 3.4714e-01, 0.0000e+00,\n",
      "         0.0000e+00, 0.0000e+00, 0.0000e+00, 0.0000e+00, 0.0000e+00, 1.8297e-02,\n",
      "         0.0000e+00, 0.0000e+00, 0.0000e+00, 1.9389e-01, 6.9175e-03, 0.0000e+00,\n",
      "         0.0000e+00, 1.0442e-01],\n",
      "        [1.3508e-04, 3.6364e-01, 0.0000e+00, 3.3162e-01, 2.7077e-01, 1.4249e-01,\n",
      "         2.1699e-01, 0.0000e+00, 0.0000e+00, 0.0000e+00, 0.0000e+00, 0.0000e+00,\n",
      "         1.2123e-01, 0.0000e+00, 0.0000e+00, 8.3712e-03, 0.0000e+00, 0.0000e+00,\n",
      "         0.0000e+00, 1.9537e-01],\n",
      "        [1.8829e-01, 0.0000e+00, 0.0000e+00, 5.0809e-02, 0.0000e+00, 0.0000e+00,\n",
      "         3.7231e-02, 3.1169e-01, 0.0000e+00, 0.0000e+00, 0.0000e+00, 0.0000e+00,\n",
      "         0.0000e+00, 0.0000e+00, 0.0000e+00, 3.0614e-01, 0.0000e+00, 0.0000e+00,\n",
      "         0.0000e+00, 5.6692e-02]], grad_fn=<ReluBackward0>)\n"
     ]
    }
   ],
   "source": [
    "print(f\"Before ReLU: {hidden1}\\n\\n\")\n",
    "hidden1 = nn.ReLU()(hidden1)\n",
    "print(f\"After ReLU: {hidden1}\")"
   ]
  },
  {
   "cell_type": "code",
   "execution_count": 10,
   "id": "cae611c3",
   "metadata": {},
   "outputs": [],
   "source": [
    "seq_model = nn.Sequential(\n",
    "    flatten,\n",
    "    layer1,\n",
    "    nn.ReLU(),\n",
    "    nn.Linear(20, 10)\n",
    ")\n",
    "input_image = torch.rand(3, 28, 28)\n",
    "logits = seq_model(input_image)"
   ]
  },
  {
   "cell_type": "code",
   "execution_count": 11,
   "id": "808c6729",
   "metadata": {},
   "outputs": [],
   "source": [
    "softmax = nn.Softmax(dim=1)\n",
    "pred_probab = softmax(logits)"
   ]
  },
  {
   "cell_type": "code",
   "execution_count": 12,
   "id": "ade8f5ed",
   "metadata": {},
   "outputs": [
    {
     "name": "stdout",
     "output_type": "stream",
     "text": [
      "Model structure: NeuralNetwork(\n",
      "  (flatten): Flatten(start_dim=1, end_dim=-1)\n",
      "  (linear_relu_stack): Sequential(\n",
      "    (0): Linear(in_features=784, out_features=512, bias=True)\n",
      "    (1): ReLU()\n",
      "    (2): Linear(in_features=512, out_features=512, bias=True)\n",
      "    (3): ReLU()\n",
      "    (4): Linear(in_features=512, out_features=10, bias=True)\n",
      "  )\n",
      ")\n",
      "\n",
      "\n",
      "Layer: linear_relu_stack.0.weight | Size: torch.Size([512, 784]) | Values : tensor([[ 0.0355,  0.0081, -0.0311,  ...,  0.0138, -0.0323, -0.0340],\n",
      "        [-0.0096, -0.0074, -0.0017,  ...,  0.0102, -0.0336, -0.0249]],\n",
      "       device='cuda:0', grad_fn=<SliceBackward0>) \n",
      "\n",
      "Layer: linear_relu_stack.0.bias | Size: torch.Size([512]) | Values : tensor([-0.0081, -0.0343], device='cuda:0', grad_fn=<SliceBackward0>) \n",
      "\n",
      "Layer: linear_relu_stack.2.weight | Size: torch.Size([512, 512]) | Values : tensor([[ 0.0267,  0.0077,  0.0006,  ...,  0.0065,  0.0383, -0.0331],\n",
      "        [ 0.0092, -0.0192,  0.0312,  ...,  0.0150,  0.0335, -0.0108]],\n",
      "       device='cuda:0', grad_fn=<SliceBackward0>) \n",
      "\n",
      "Layer: linear_relu_stack.2.bias | Size: torch.Size([512]) | Values : tensor([-0.0346,  0.0373], device='cuda:0', grad_fn=<SliceBackward0>) \n",
      "\n",
      "Layer: linear_relu_stack.4.weight | Size: torch.Size([10, 512]) | Values : tensor([[ 0.0303, -0.0202, -0.0218,  ..., -0.0319, -0.0086,  0.0176],\n",
      "        [ 0.0325,  0.0063,  0.0363,  ...,  0.0028,  0.0156, -0.0041]],\n",
      "       device='cuda:0', grad_fn=<SliceBackward0>) \n",
      "\n",
      "Layer: linear_relu_stack.4.bias | Size: torch.Size([10]) | Values : tensor([-0.0051,  0.0078], device='cuda:0', grad_fn=<SliceBackward0>) \n",
      "\n"
     ]
    }
   ],
   "source": [
    "print(f\"Model structure: {model}\\n\\n\")\n",
    "\n",
    "for name, param in model.named_parameters():\n",
    "    print(f\"Layer: {name} | Size: {param.size()} | Values : {param[:2]} \\n\")\n"
   ]
  }
 ],
 "metadata": {
  "kernelspec": {
   "display_name": "pytorch_tutorials",
   "language": "python",
   "name": "python3"
  },
  "language_info": {
   "codemirror_mode": {
    "name": "ipython",
    "version": 3
   },
   "file_extension": ".py",
   "mimetype": "text/x-python",
   "name": "python",
   "nbconvert_exporter": "python",
   "pygments_lexer": "ipython3",
   "version": "3.11.13"
  }
 },
 "nbformat": 4,
 "nbformat_minor": 5
}
