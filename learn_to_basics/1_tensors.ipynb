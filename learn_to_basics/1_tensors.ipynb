{
 "cells": [
  {
   "cell_type": "markdown",
   "id": "ddda5581",
   "metadata": {},
   "source": [
    "### Tensor\n",
    "- PyTorch의 핵심 데이터 구조\n",
    "- Scalar, Vector(1D), Matrix(2D), 고차원 배열(ND) 까지 모두 표현 가능\n",
    "- NumPy의 ndarray와 비슷하지만, GPU에서 연산 가능하고 자동 미분(autograd)도 지원\n"
   ]
  },
  {
   "cell_type": "code",
   "execution_count": 1,
   "id": "ed240482",
   "metadata": {},
   "outputs": [],
   "source": [
    "import torch\n",
    "import numpy as np"
   ]
  },
  {
   "cell_type": "markdown",
   "id": "08b32ade",
   "metadata": {},
   "source": [
    "#### Tensor 초기화"
   ]
  },
  {
   "cell_type": "markdown",
   "id": "b57400ef",
   "metadata": {},
   "source": [
    "1. 데이터로부터 직접(directly) 생성\n",
    "- 데이터의 자료형(data type)은 자동으로 유추"
   ]
  },
  {
   "cell_type": "code",
   "execution_count": 2,
   "id": "0bc82717",
   "metadata": {},
   "outputs": [],
   "source": [
    "data = [[1, 2], [3, 4]]\n",
    "x_data = torch.tensor(data)"
   ]
  },
  {
   "cell_type": "markdown",
   "id": "f7cbad69",
   "metadata": {},
   "source": [
    "2. NumPy 배열로부터 생성\n",
    "- Tensor to NumPy, NumPy to Tensor 가능"
   ]
  },
  {
   "cell_type": "code",
   "execution_count": 3,
   "id": "b6513048",
   "metadata": {},
   "outputs": [],
   "source": [
    "np_array = np.array(data)\n",
    "x_np = torch.from_numpy(np_array)"
   ]
  },
  {
   "cell_type": "markdown",
   "id": "b037a579",
   "metadata": {},
   "source": [
    "3. 다른 텐서로부터 생성하기\n",
    "- 명시적으로 재정의(override)하지 않는다면, 인자로 주어진 텐서의 속성 (모양(shape), 자료형(datatype))을 유지"
   ]
  },
  {
   "cell_type": "code",
   "execution_count": 4,
   "id": "72b4efde",
   "metadata": {},
   "outputs": [
    {
     "name": "stdout",
     "output_type": "stream",
     "text": [
      "Ones Tensor: \n",
      " tensor([[1, 1],\n",
      "        [1, 1]]) \n",
      "\n",
      "Random Tensor: \n",
      " tensor([[0.0158, 0.1336],\n",
      "        [0.1653, 0.0300]]) \n",
      "\n",
      "Random Tensor(int): \n",
      " tensor([[3, 4],\n",
      "        [2, 0]], dtype=torch.int32) \n",
      "\n"
     ]
    }
   ],
   "source": [
    "x_ones = torch.ones_like(x_data)        # x_data와 같은 shape을 갖는 텐서를 만들되, 모든 원소의 값을 1로 채움\n",
    "print(f\"Ones Tensor: \\n {x_ones} \\n\")\n",
    "\n",
    "x_rand = torch.rand_like(x_data, dtype=torch.float)     # x_data와 같은 shape을 갖는 텐서를 만들되, 0이상 1미만의 난수 텐서를 생성 / float형\n",
    "print(f\"Random Tensor: \\n {x_rand} \\n\") \n",
    "\n",
    "x_randint = torch.randint(low=0, high=10, size=x_data.shape, dtype=torch.int32) # 정수형 난수\n",
    "print(f\"Random Tensor(int): \\n {x_randint} \\n\")"
   ]
  },
  {
   "cell_type": "markdown",
   "id": "4d5156ce",
   "metadata": {},
   "source": [
    "4. 무작위(random) 또는 상수(constant) 값을 사용하기\n",
    "- shape은 텐서의 차원(dimension)을 나타내는 튜플(tuple)로, 아래 함수들에서는 출력 텐서의 차원을 결정함"
   ]
  },
  {
   "cell_type": "code",
   "execution_count": 5,
   "id": "c2ef8dcc",
   "metadata": {},
   "outputs": [
    {
     "name": "stdout",
     "output_type": "stream",
     "text": [
      "Random Tensor: \n",
      " tensor([[0.4971, 0.1129, 0.7153],\n",
      "        [0.8702, 0.1793, 0.2449]]) \n",
      "\n",
      "Ones Tensor: \n",
      " tensor([[1., 1., 1.],\n",
      "        [1., 1., 1.]]) \n",
      "\n",
      "Zeros Tensor: \n",
      " tensor([[0., 0., 0.],\n",
      "        [0., 0., 0.]])\n"
     ]
    }
   ],
   "source": [
    "shape = (2, 3,)\n",
    "rand_tensor = torch.rand(shape)\n",
    "ones_tensor = torch.ones(shape)\n",
    "zeros_tensor = torch.zeros(shape)\n",
    "\n",
    "print(f\"Random Tensor: \\n {rand_tensor} \\n\")\n",
    "print(f\"Ones Tensor: \\n {ones_tensor} \\n\")\n",
    "print(f\"Zeros Tensor: \\n {zeros_tensor}\")"
   ]
  },
  {
   "cell_type": "markdown",
   "id": "df6a894a",
   "metadata": {},
   "source": [
    "#### 텐서의 속성 (Attribute)\n",
    "- 텐서의 속성은 텐서의 모양(shape), 자료형(datatype) 및 어느 장치에 저장되는지를 나타냄"
   ]
  },
  {
   "cell_type": "code",
   "execution_count": 6,
   "id": "045c3247",
   "metadata": {},
   "outputs": [
    {
     "name": "stdout",
     "output_type": "stream",
     "text": [
      "Shape of tensor: torch.Size([3, 4])\n",
      "Datatype of tensor: torch.float32\n",
      "Device tensor is stored on : cpu\n"
     ]
    }
   ],
   "source": [
    "tensor = torch.rand(3, 4)\n",
    "\n",
    "print(f\"Shape of tensor: {tensor.shape}\")\n",
    "print(f\"Datatype of tensor: {tensor.dtype}\")\n",
    "print(f\"Device tensor is stored on : {tensor.device}\")"
   ]
  },
  {
   "cell_type": "markdown",
   "id": "365ef317",
   "metadata": {},
   "source": [
    "#### 텐서 연산 (Operation)"
   ]
  },
  {
   "cell_type": "code",
   "execution_count": 7,
   "id": "3fcf742a",
   "metadata": {},
   "outputs": [],
   "source": [
    "if torch.cuda.is_available():\n",
    "    tensor = tensor.to('cuda')"
   ]
  },
  {
   "cell_type": "markdown",
   "id": "eee7007a",
   "metadata": {},
   "source": [
    "NumPy식의 표준 인덱싱과 슬라이싱"
   ]
  },
  {
   "cell_type": "code",
   "execution_count": 8,
   "id": "1effd2f0",
   "metadata": {},
   "outputs": [
    {
     "name": "stdout",
     "output_type": "stream",
     "text": [
      "Tensor: tensor([[ 0,  1,  2,  3,  4],\n",
      "        [ 5,  6,  7,  8,  9],\n",
      "        [10, 11, 12, 13, 14],\n",
      "        [15, 16, 17, 18, 19]])\n",
      "First row: tensor([0, 1, 2, 3, 4])\n",
      "First columns: tensor([ 0,  5, 10, 15])\n",
      "Last columns: tensor([ 4,  9, 14, 19])\n",
      "tensor([[ 0,  0,  2,  3,  4],\n",
      "        [ 5,  0,  7,  8,  9],\n",
      "        [10,  0, 12, 13, 14],\n",
      "        [15,  0, 17, 18, 19]])\n"
     ]
    }
   ],
   "source": [
    "tensor = torch.arange(20).reshape(4, 5)\n",
    "print(f\"Tensor: {tensor}\")\n",
    "print(f\"First row: {tensor[0]}\")\n",
    "print(f\"First columns: {tensor[:, 0]}\")\n",
    "# ... : 마지막 차원\n",
    "print(f\"Last columns: {tensor[..., -1]}\")   # 2차원에서는 :와 동일하게 작용\n",
    "tensor[:, 1] = 0\n",
    "print(tensor)"
   ]
  },
  {
   "cell_type": "markdown",
   "id": "e82bf798",
   "metadata": {},
   "source": [
    "텐서 합치기"
   ]
  },
  {
   "cell_type": "code",
   "execution_count": 9,
   "id": "01244451",
   "metadata": {},
   "outputs": [
    {
     "name": "stdout",
     "output_type": "stream",
     "text": [
      "tensor([[ 0,  0,  2,  3,  4,  0,  0,  2,  3,  4,  0,  0,  2,  3,  4],\n",
      "        [ 5,  0,  7,  8,  9,  5,  0,  7,  8,  9,  5,  0,  7,  8,  9],\n",
      "        [10,  0, 12, 13, 14, 10,  0, 12, 13, 14, 10,  0, 12, 13, 14],\n",
      "        [15,  0, 17, 18, 19, 15,  0, 17, 18, 19, 15,  0, 17, 18, 19]])\n"
     ]
    }
   ],
   "source": [
    "t1 = torch.cat([tensor, tensor, tensor], dim=1) # dim=1: row를 기준으로 (batch, row, column)\n",
    "print(t1)"
   ]
  },
  {
   "cell_type": "markdown",
   "id": "c0c0defa",
   "metadata": {},
   "source": [
    "산술 연산 (Arithmetic operations)"
   ]
  },
  {
   "cell_type": "code",
   "execution_count": 10,
   "id": "9da06a8b",
   "metadata": {},
   "outputs": [
    {
     "name": "stdout",
     "output_type": "stream",
     "text": [
      "tensor([[ 0.,  1.,  2.,  3.,  4.],\n",
      "        [ 5.,  6.,  7.,  8.,  9.],\n",
      "        [10., 11., 12., 13., 14.],\n",
      "        [15., 16., 17., 18., 19.]])\n",
      "tensor([[  30.,   80.,  130.,  180.],\n",
      "        [  80.,  255.,  430.,  605.],\n",
      "        [ 130.,  430.,  730., 1030.],\n",
      "        [ 180.,  605., 1030., 1455.]])\n",
      "tensor([[  0.,   1.,   4.,   9.,  16.],\n",
      "        [ 25.,  36.,  49.,  64.,  81.],\n",
      "        [100., 121., 144., 169., 196.],\n",
      "        [225., 256., 289., 324., 361.]])\n"
     ]
    }
   ],
   "source": [
    "tensor = torch.arange(20).reshape(4, 5).float()\n",
    "print(tensor)\n",
    "\n",
    "# 두 텐서 간의 행렬 곱(matrix multiplication)을 계산. y1, y2, y3은 모두 같은 값을 가짐\n",
    "y1 = tensor @ tensor.T\n",
    "y2 = tensor.matmul(tensor.T)\n",
    "\n",
    "y3 = torch.rand_like(y1)                # 행렬곱 결과를 저장할 그릇 (메모리 확보)\n",
    "torch.matmul(tensor, tensor.T, out=y3)  # out=y3 -> 새로 메모리를 만들지 않고 y3에 덮어써서 저장\n",
    "print(y1)\n",
    "\n",
    "# element-wise product를 계산. z1, z2, z3는 모두 같은 값을 가짐\n",
    "z1 = tensor * tensor\n",
    "z2 = tensor.mul(tensor)\n",
    "\n",
    "z3 = torch.rand_like(tensor)\n",
    "torch.mul(tensor, tensor, out=z3)\n",
    "print(z1)"
   ]
  },
  {
   "cell_type": "markdown",
   "id": "ce87944e",
   "metadata": {},
   "source": [
    "단일-요소(single-element) 텐서\n"
   ]
  },
  {
   "cell_type": "code",
   "execution_count": 11,
   "id": "68493550",
   "metadata": {},
   "outputs": [
    {
     "name": "stdout",
     "output_type": "stream",
     "text": [
      "190.0 <class 'builtin_function_or_method'>\n"
     ]
    }
   ],
   "source": [
    "agg = tensor.sum()\n",
    "agg_item = agg.item()\n",
    "print(agg_item, type(agg.item))"
   ]
  },
  {
   "cell_type": "markdown",
   "id": "416bfbc1",
   "metadata": {},
   "source": [
    "바꿔치기(in-place) 연산"
   ]
  },
  {
   "cell_type": "code",
   "execution_count": 12,
   "id": "98c79aff",
   "metadata": {},
   "outputs": [
    {
     "name": "stdout",
     "output_type": "stream",
     "text": [
      "tensor([[ 0.,  1.,  2.,  3.,  4.],\n",
      "        [ 5.,  6.,  7.,  8.,  9.],\n",
      "        [10., 11., 12., 13., 14.],\n",
      "        [15., 16., 17., 18., 19.]]) \n",
      "\n",
      "tensor([[ 0.,  1.,  2.,  3.,  4.],\n",
      "        [ 5.,  6.,  7.,  8.,  9.],\n",
      "        [10., 11., 12., 13., 14.],\n",
      "        [15., 16., 17., 18., 19.]])\n"
     ]
    }
   ],
   "source": [
    "print(f\"{tensor} \\n\")\n",
    "tensor.add(5)\n",
    "print(tensor)"
   ]
  },
  {
   "cell_type": "markdown",
   "id": "e96634f6",
   "metadata": {},
   "source": [
    "#### NumPy 변환 (Bridge)\n",
    "- CPU 상의 tensor와 NumPy 배열은 메모리 공간을 공유하기 때문에, 하나를 변경하면 다른 하나도 변경됨 (shallow copy와 유사)"
   ]
  },
  {
   "cell_type": "markdown",
   "id": "ac0f7b3f",
   "metadata": {},
   "source": [
    "텐서를 NumPy 배열로 변환하기"
   ]
  },
  {
   "cell_type": "code",
   "execution_count": 13,
   "id": "121b27de",
   "metadata": {},
   "outputs": [
    {
     "name": "stdout",
     "output_type": "stream",
     "text": [
      "t: tensor([1., 1., 1., 1., 1.])\n",
      "n: [1. 1. 1. 1. 1.]\n"
     ]
    }
   ],
   "source": [
    "t = torch.ones(5)\n",
    "print(f\"t: {t}\")\n",
    "n = t.numpy()\n",
    "print(f\"n: {n}\")"
   ]
  },
  {
   "cell_type": "code",
   "execution_count": 14,
   "id": "bf2214d1",
   "metadata": {},
   "outputs": [
    {
     "name": "stdout",
     "output_type": "stream",
     "text": [
      "t: tensor([2., 2., 2., 2., 2.])\n",
      "n: [2. 2. 2. 2. 2.]\n"
     ]
    }
   ],
   "source": [
    "\"\"\"\n",
    "add와 add_\n",
    "\n",
    "add(): 더한 결과를 새로 반환 (원본 텐서 변경 X)\n",
    "add_() : 원본에 직접 더함(in-place) (원본 텐서 변경)\n",
    "\"\"\"\n",
    "\n",
    "t.add_(1)\n",
    "print(f\"t: {t}\")\n",
    "print(f\"n: {n}\")        # 메모리 공간을 공유 -> t를 변경하면 n도 변경"
   ]
  },
  {
   "cell_type": "markdown",
   "id": "b9ead6ef",
   "metadata": {},
   "source": [
    "NumPy 배열을 텐서로 변환하기\n"
   ]
  },
  {
   "cell_type": "code",
   "execution_count": 15,
   "id": "37f872c4",
   "metadata": {},
   "outputs": [],
   "source": [
    "n = np.ones(5)\n",
    "t = torch.from_numpy(n)"
   ]
  },
  {
   "cell_type": "markdown",
   "id": "4bc09575",
   "metadata": {},
   "source": [
    "마찬가지로, NumPy 배열의 변경 사항이 텐서에 반영"
   ]
  },
  {
   "cell_type": "code",
   "execution_count": 16,
   "id": "86ecaf47",
   "metadata": {},
   "outputs": [
    {
     "name": "stdout",
     "output_type": "stream",
     "text": [
      "t: tensor([2., 2., 2., 2., 2.], dtype=torch.float64)\n",
      "n: [2. 2. 2. 2. 2.]\n"
     ]
    }
   ],
   "source": [
    "np.add(n, 1, out=n)\n",
    "print(f\"t: {t}\")\n",
    "print(f\"n: {n}\")"
   ]
  }
 ],
 "metadata": {
  "kernelspec": {
   "display_name": "pytorch_tutorials",
   "language": "python",
   "name": "python3"
  },
  "language_info": {
   "codemirror_mode": {
    "name": "ipython",
    "version": 3
   },
   "file_extension": ".py",
   "mimetype": "text/x-python",
   "name": "python",
   "nbconvert_exporter": "python",
   "pygments_lexer": "ipython3",
   "version": "3.11.13"
  }
 },
 "nbformat": 4,
 "nbformat_minor": 5
}
