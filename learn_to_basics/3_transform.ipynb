{
 "cells": [
  {
   "cell_type": "markdown",
   "id": "0368ef80",
   "metadata": {},
   "source": [
    "### Transform (변형)\n",
    "- 머신러닝 알고리즘 학습에 필요한 최종 처리가 된 형태로 데이터를 *변형(Transform)* 해야함\n",
    "- Torchvision Dataset\n",
    "    - 변형 로직을 갖는, 호출 가능한 객체(callable)를 받는 매개변수 두개\n",
    "        - `transform` : 특징(feature)를 변형하기 위함\n",
    "        - `target_transform` : 정답(label)을 변경하기 위함\n",
    "    - torchvision.transforms 모듈은 주로 사용하는 몇 가지 transform을 제공"
   ]
  },
  {
   "cell_type": "markdown",
   "id": "4072c3b6",
   "metadata": {},
   "source": [
    "FashionMNIST\n",
    "- `feature` : PIL Image\n",
    "    - normalize된 tensor 형태의 feature 필요 -> `ToTensor`\n",
    "- `label` : integer\n",
    "    - one-hot으로 encoding된 tensor 형태의 label 필요 -> `Lambda`"
   ]
  },
  {
   "cell_type": "code",
   "execution_count": 1,
   "id": "d031646e",
   "metadata": {},
   "outputs": [],
   "source": [
    "import torch\n",
    "from torchvision import datasets\n",
    "from torchvision.transforms import ToTensor, Lambda\n",
    "\n",
    "ds = datasets.FashionMNIST(\n",
    "    download=True,\n",
    "    root = \"data\",\n",
    "    train = True,\n",
    "    transform = ToTensor(),\n",
    "    target_transform = Lambda(lambda y: torch.zeros(10, dtype=torch.float).scatter_(0, torch.tensor(y), value=1))\n",
    ")"
   ]
  },
  {
   "cell_type": "markdown",
   "id": "314e047a",
   "metadata": {},
   "source": [
    "#### ToTensor()\n",
    "- PIL Image나 NumPy `ndarray`를 `FlaotTensor`로 변환\n",
    "- 이미지의 픽셀 크기(intensity) 값을 [0., 1.] 범위로 비례하여 조정(scale)"
   ]
  },
  {
   "cell_type": "markdown",
   "id": "43690ba1",
   "metadata": {},
   "source": [
    "#### Lambda 변형 (Transform)\n",
    "- 사용자 정의 람다(lambda) 함수 적용\n",
    "- 정수를 원-핫으로 부호화된 텐서로 바꾸는 함수 정의\n",
    "- 데이터셋의 정답 수인 크기 10짜리 zero tensor를 만든 후, `scatter_`를 호출하여 주어진 정답 `y`에 해당하는 인덱스에 `value=1`을 할당"
   ]
  }
 ],
 "metadata": {
  "kernelspec": {
   "display_name": "pytorch_tutorials",
   "language": "python",
   "name": "python3"
  },
  "language_info": {
   "codemirror_mode": {
    "name": "ipython",
    "version": 3
   },
   "file_extension": ".py",
   "mimetype": "text/x-python",
   "name": "python",
   "nbconvert_exporter": "python",
   "pygments_lexer": "ipython3",
   "version": "3.11.13"
  }
 },
 "nbformat": 4,
 "nbformat_minor": 5
}
